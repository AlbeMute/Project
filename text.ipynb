{
 "cells": [
  {
   "cell_type": "code",
   "execution_count": null,
   "metadata": {},
   "outputs": [],
   "source": [
    "   # построение графика без маркеров\n",
    "    @staticmethod\n",
    "    def check(den):\n",
    "        try:\n",
    "            x = float(den)\n",
    "        except:\n",
    "            return False\n",
    "        # if type(den) == float:\n",
    "        #     return True \n",
    "        # else:\n",
    "        #     return False\n",
    "    \n",
    "    def plot_the_chart(self):\n",
    "        function_text = self.lineEdit.text() \n",
    "        if self.check(self.lineEdit_2.text()) and self.check(self.lineEdit_3.text()):\n",
    "            xmin = float(self.lineEdit_2.text())\n",
    "            xmax = float(self.lineEdit_3.text())\n",
    "        else:\n",
    "            QMessageBox.warning(self, \"Ошибка\", \"Неверно заданы Xmin или Xmax.\")"
   ]
  },
  {
   "cell_type": "code",
   "execution_count": null,
   "metadata": {},
   "outputs": [],
   "source": []
  }
 ],
 "metadata": {
  "language_info": {
   "name": "python"
  }
 },
 "nbformat": 4,
 "nbformat_minor": 2
}
